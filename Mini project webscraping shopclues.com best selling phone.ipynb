{
 "cells": [
  {
   "cell_type": "code",
   "execution_count": 4,
   "metadata": {},
   "outputs": [],
   "source": [
    "from bs4 import BeautifulSoup \n",
    "import requests"
   ]
  },
  {
   "cell_type": "code",
   "execution_count": 79,
   "metadata": {},
   "outputs": [],
   "source": [
    "r=requests.get('https://www.shopclues.com/mobiles-smartphones.html?sort_by=bestsellers&sort_order=desc&sort_price[]=10000.00-99999999.00&fsrc=sort_pricehttps://www.indiatoday.in/elections/highlights')"
   ]
  },
  {
   "cell_type": "code",
   "execution_count": 81,
   "metadata": {},
   "outputs": [],
   "source": [
    "soup=BeautifulSoup(r.text,'html.parser')"
   ]
  },
  {
   "cell_type": "code",
   "execution_count": null,
   "metadata": {},
   "outputs": [],
   "source": [
    "l=soup.find()"
   ]
  },
  {
   "cell_type": "code",
   "execution_count": 82,
   "metadata": {},
   "outputs": [],
   "source": [
    "res=soup.find('span',attrs={'class':'prod_name'})"
   ]
  },
  {
   "cell_type": "code",
   "execution_count": 83,
   "metadata": {},
   "outputs": [
    {
     "data": {
      "text/plain": [
       "<span class=\"prod_name\">OPPO F9 Pro (Twilight Blue, 64 GB)  (6 GB RAM)</span>"
      ]
     },
     "execution_count": 83,
     "metadata": {},
     "output_type": "execute_result"
    }
   ],
   "source": [
    "res"
   ]
  },
  {
   "cell_type": "code",
   "execution_count": 366,
   "metadata": {},
   "outputs": [],
   "source": [
    "finres=soup.find_all('span',{'class':'prod_name'})"
   ]
  },
  {
   "cell_type": "code",
   "execution_count": 109,
   "metadata": {},
   "outputs": [],
   "source": [
    "fr=finres[0]"
   ]
  },
  {
   "cell_type": "code",
   "execution_count": 106,
   "metadata": {},
   "outputs": [
    {
     "data": {
      "text/plain": [
       "'OPPO F9 Pro (Twilight Blue, 64 GB)  (6 GB RAM)'"
      ]
     },
     "execution_count": 106,
     "metadata": {},
     "output_type": "execute_result"
    }
   ],
   "source": [
    "fr.contents[0]"
   ]
  },
  {
   "cell_type": "code",
   "execution_count": 368,
   "metadata": {},
   "outputs": [
    {
     "name": "stdout",
     "output_type": "stream",
     "text": [
      "OPPO F9 Pro (Twilight Blue, 64 GB)  (6 GB RAM)\n",
      "Honor 9 Lite (Sapphire Blue, 32 GB)  (3 GB RAM)\n",
      "Apple iPhone X (3 GB/64 GB/Silver)\n",
      "REDMI NOTE 5 PRO 4/64 GB GOLD\n",
      "Apple iPhone X 64 GB (3 GB/64 GB/Space Grey)\n",
      "Vivo Y91 32 Gb 3 Gb Ram Smartphone New\n",
      "OPPO A7 64 gb Smart phone New\n",
      "SAMSUNG GALAXY M10 32 Gb 3 Gb Ram Smartphone New\n",
      "vivo V15 Pro 128 GB, 8 GB RAM Smartphone New\n",
      "Samsung Galaxy M20 32 GB, 3 GB RAM Smartphone New Phone\n",
      "vivo Y95vivo Y95 64 GB, 4 GB RAM Smartphone New\n",
      "Oppo F11 Pro 64 GB, 4 GB RAM Smartphone New\n",
      "Samsung Galaxy A9  128 GB, 8 GB RAM Smartphone New\n",
      "Realme 3 Pro 6GB RAM 64GB ROM Lightning Purple\n",
      "Samsung Galaxy A30 32 GB, 3 GB RAM Smartphone New\n",
      "Redmi Note 6 Pro (Red, 64 GB)  (4 GB RAM)\n",
      "vivo Y17 128 GB, 4 GB RAM Smartphone New\n",
      "Samsung Galaxy M30 128 GB, 6 GB RAM Smartphone New\n",
      "Vivo V17 Pro 128Gb 8Gb Ram Smartphone New Mobile Phone\n",
      "Samsung Galaxy A50  64 GB, 4 GB RAM Smartphone New\n",
      "OPPO F9 Pro (Sunrise Red, 64 GB)  (6 GB RAM)\n",
      "Samsung Galaxy M30  64 GB, 4 GB RAM Smartphone New\n",
      "Samsung Galaxy A7 (2018)  64 GB, 4 GB RAM Smartphone Ne\n",
      "OPPO F9 Pro (Twilight Blue, 64 GB)  (6 GB RAM)\n"
     ]
    }
   ],
   "source": [
    "for i in finres:\n",
    "    a=i.contents[0]\n",
    "    print(a)"
   ]
  },
  {
   "cell_type": "code",
   "execution_count": 205,
   "metadata": {},
   "outputs": [],
   "source": [
    "res1=soup.find_all('span',attrs={'class':'p_price'})"
   ]
  },
  {
   "cell_type": "code",
   "execution_count": 206,
   "metadata": {},
   "outputs": [],
   "source": [
    "frp=res1[0]"
   ]
  },
  {
   "cell_type": "code",
   "execution_count": 364,
   "metadata": {},
   "outputs": [
    {
     "name": "stdout",
     "output_type": "stream",
     "text": [
      "Rs.22990\n",
      "Rs.11899\n",
      "Rs.81000\n",
      "Rs.14449\n",
      "Rs.89000\n",
      "Rs.11499\n",
      "Rs.16999\n",
      "Rs.12399\n",
      "Rs.21200\n",
      "Rs.12999\n",
      "Rs.16999\n",
      "Rs.22700\n",
      "Rs.32999\n",
      "Rs.12999\n",
      "Rs.10990\n",
      "Rs.13899\n",
      "Rs.14190\n",
      "Rs.18790\n",
      "Rs.26799\n",
      "Rs.21145\n",
      "Rs.19100\n",
      "Rs.18839\n",
      "Rs.20300\n",
      "Rs.20690\n"
     ]
    }
   ],
   "source": [
    "frp.contents[0]\n",
    "\n",
    "for i in finres:\n",
    "    a=i.contents[0]\n",
    "    print(a)\n",
    "\n",
    "for i in res2:\n",
    "    c=i.contents[0]\n",
    "    print(c)\n",
    "    \n",
    "for i in res1:\n",
    "    b=i.contents[0]\n",
    "    print(b)"
   ]
  },
  {
   "cell_type": "code",
   "execution_count": 208,
   "metadata": {},
   "outputs": [],
   "source": [
    "res2=soup.find_all('span',{'class':'prd_discount'})"
   ]
  },
  {
   "cell_type": "code",
   "execution_count": 370,
   "metadata": {},
   "outputs": [
    {
     "name": "stdout",
     "output_type": "stream",
     "text": [
      "12% Off\n",
      "15% Off\n",
      "9% Off\n",
      "10% Off\n",
      "12% Off\n",
      "6% Off\n",
      "5% Off\n",
      "41% Off\n",
      "24% Off\n",
      "15% Off\n",
      "24% Off\n",
      "8% Off\n",
      "24% Off\n",
      "39% Off\n",
      "13% Off\n",
      "29% Off\n",
      "25% Off\n",
      "8% Off\n",
      "14% Off\n",
      "9% Off\n",
      "10% Off\n",
      "3% Off\n",
      "20% Off\n"
     ]
    }
   ],
   "source": [
    "\n",
    "s=[]\n",
    "for i in res2:\n",
    "    c=i.contents[0]\n",
    "    print(c)"
   ]
  },
  {
   "cell_type": "code",
   "execution_count": 182,
   "metadata": {},
   "outputs": [],
   "source": [
    "import pandas as pd"
   ]
  },
  {
   "cell_type": "code",
   "execution_count": 371,
   "metadata": {
    "scrolled": true
   },
   "outputs": [
    {
     "name": "stdout",
     "output_type": "stream",
     "text": [
      "OPPO F9 Pro (Twilight Blue, 64 GB)  (6 GB RAM)\n",
      "Honor 9 Lite (Sapphire Blue, 32 GB)  (3 GB RAM)\n",
      "Apple iPhone X (3 GB/64 GB/Silver)\n",
      "REDMI NOTE 5 PRO 4/64 GB GOLD\n",
      "Apple iPhone X 64 GB (3 GB/64 GB/Space Grey)\n",
      "Vivo Y91 32 Gb 3 Gb Ram Smartphone New\n",
      "OPPO A7 64 gb Smart phone New\n",
      "SAMSUNG GALAXY M10 32 Gb 3 Gb Ram Smartphone New\n",
      "vivo V15 Pro 128 GB, 8 GB RAM Smartphone New\n",
      "Samsung Galaxy M20 32 GB, 3 GB RAM Smartphone New Phone\n",
      "vivo Y95vivo Y95 64 GB, 4 GB RAM Smartphone New\n",
      "Oppo F11 Pro 64 GB, 4 GB RAM Smartphone New\n",
      "Samsung Galaxy A9  128 GB, 8 GB RAM Smartphone New\n",
      "Realme 3 Pro 6GB RAM 64GB ROM Lightning Purple\n",
      "Samsung Galaxy A30 32 GB, 3 GB RAM Smartphone New\n",
      "Redmi Note 6 Pro (Red, 64 GB)  (4 GB RAM)\n",
      "vivo Y17 128 GB, 4 GB RAM Smartphone New\n",
      "Samsung Galaxy M30 128 GB, 6 GB RAM Smartphone New\n",
      "Vivo V17 Pro 128Gb 8Gb Ram Smartphone New Mobile Phone\n",
      "Samsung Galaxy A50  64 GB, 4 GB RAM Smartphone New\n",
      "OPPO F9 Pro (Sunrise Red, 64 GB)  (6 GB RAM)\n",
      "Samsung Galaxy M30  64 GB, 4 GB RAM Smartphone New\n",
      "Samsung Galaxy A7 (2018)  64 GB, 4 GB RAM Smartphone Ne\n",
      "OPPO F9 Pro (Twilight Blue, 64 GB)  (6 GB RAM)\n",
      "Rs.22990\n",
      "Rs.11899\n",
      "Rs.81000\n",
      "Rs.14449\n",
      "Rs.89000\n",
      "Rs.11499\n",
      "Rs.16999\n",
      "Rs.12399\n",
      "Rs.21200\n",
      "Rs.12999\n",
      "Rs.16999\n",
      "Rs.22700\n",
      "Rs.32999\n",
      "Rs.12999\n",
      "Rs.10990\n",
      "Rs.13899\n",
      "Rs.14190\n",
      "Rs.18790\n",
      "Rs.26799\n",
      "Rs.21145\n",
      "Rs.19100\n",
      "Rs.18839\n",
      "Rs.20300\n",
      "Rs.20690\n",
      "12% Off\n",
      "15% Off\n",
      "9% Off\n",
      "10% Off\n",
      "12% Off\n",
      "6% Off\n",
      "5% Off\n",
      "41% Off\n",
      "24% Off\n",
      "15% Off\n",
      "24% Off\n",
      "8% Off\n",
      "24% Off\n",
      "39% Off\n",
      "13% Off\n",
      "29% Off\n",
      "25% Off\n",
      "8% Off\n",
      "14% Off\n",
      "9% Off\n",
      "10% Off\n",
      "3% Off\n",
      "20% Off\n"
     ]
    }
   ],
   "source": [
    "t=[]\n",
    "for i in finres:\n",
    "    a=i.contents[0]\n",
    "    print(a)\n",
    "    t.append(a)\n",
    "\n",
    "q=[]\n",
    "for i in res1:\n",
    "    b=i.contents[0]\n",
    "    print(b)\n",
    "    q.append(b)\n",
    "    \n",
    "\n",
    "s=[]\n",
    "for i in res2:\n",
    "    c=i.contents[0]\n",
    "    print(c)\n",
    "    s.append(c)\n",
    "\n",
    "    "
   ]
  },
  {
   "cell_type": "code",
   "execution_count": null,
   "metadata": {},
   "outputs": [],
   "source": []
  },
  {
   "cell_type": "code",
   "execution_count": 376,
   "metadata": {},
   "outputs": [],
   "source": [
    "df=pd.DataFrame(t)"
   ]
  },
  {
   "cell_type": "code",
   "execution_count": 377,
   "metadata": {},
   "outputs": [],
   "source": [
    "df1=pd.DataFrame(q)\n",
    "df2=pd.DataFrame(s)"
   ]
  },
  {
   "cell_type": "code",
   "execution_count": 378,
   "metadata": {},
   "outputs": [
    {
     "data": {
      "text/html": [
       "<div>\n",
       "<style scoped>\n",
       "    .dataframe tbody tr th:only-of-type {\n",
       "        vertical-align: middle;\n",
       "    }\n",
       "\n",
       "    .dataframe tbody tr th {\n",
       "        vertical-align: top;\n",
       "    }\n",
       "\n",
       "    .dataframe thead th {\n",
       "        text-align: right;\n",
       "    }\n",
       "</style>\n",
       "<table border=\"1\" class=\"dataframe\">\n",
       "  <thead>\n",
       "    <tr style=\"text-align: right;\">\n",
       "      <th></th>\n",
       "      <th>0</th>\n",
       "    </tr>\n",
       "  </thead>\n",
       "  <tbody>\n",
       "    <tr>\n",
       "      <th>0</th>\n",
       "      <td>Rs.22990</td>\n",
       "    </tr>\n",
       "    <tr>\n",
       "      <th>1</th>\n",
       "      <td>Rs.11899</td>\n",
       "    </tr>\n",
       "    <tr>\n",
       "      <th>2</th>\n",
       "      <td>Rs.81000</td>\n",
       "    </tr>\n",
       "    <tr>\n",
       "      <th>3</th>\n",
       "      <td>Rs.14449</td>\n",
       "    </tr>\n",
       "    <tr>\n",
       "      <th>4</th>\n",
       "      <td>Rs.89000</td>\n",
       "    </tr>\n",
       "    <tr>\n",
       "      <th>5</th>\n",
       "      <td>Rs.11499</td>\n",
       "    </tr>\n",
       "    <tr>\n",
       "      <th>6</th>\n",
       "      <td>Rs.16999</td>\n",
       "    </tr>\n",
       "    <tr>\n",
       "      <th>7</th>\n",
       "      <td>Rs.12399</td>\n",
       "    </tr>\n",
       "    <tr>\n",
       "      <th>8</th>\n",
       "      <td>Rs.21200</td>\n",
       "    </tr>\n",
       "    <tr>\n",
       "      <th>9</th>\n",
       "      <td>Rs.12999</td>\n",
       "    </tr>\n",
       "    <tr>\n",
       "      <th>10</th>\n",
       "      <td>Rs.16999</td>\n",
       "    </tr>\n",
       "    <tr>\n",
       "      <th>11</th>\n",
       "      <td>Rs.22700</td>\n",
       "    </tr>\n",
       "    <tr>\n",
       "      <th>12</th>\n",
       "      <td>Rs.32999</td>\n",
       "    </tr>\n",
       "    <tr>\n",
       "      <th>13</th>\n",
       "      <td>Rs.12999</td>\n",
       "    </tr>\n",
       "    <tr>\n",
       "      <th>14</th>\n",
       "      <td>Rs.10990</td>\n",
       "    </tr>\n",
       "    <tr>\n",
       "      <th>15</th>\n",
       "      <td>Rs.13899</td>\n",
       "    </tr>\n",
       "    <tr>\n",
       "      <th>16</th>\n",
       "      <td>Rs.14190</td>\n",
       "    </tr>\n",
       "    <tr>\n",
       "      <th>17</th>\n",
       "      <td>Rs.18790</td>\n",
       "    </tr>\n",
       "    <tr>\n",
       "      <th>18</th>\n",
       "      <td>Rs.26799</td>\n",
       "    </tr>\n",
       "    <tr>\n",
       "      <th>19</th>\n",
       "      <td>Rs.21145</td>\n",
       "    </tr>\n",
       "    <tr>\n",
       "      <th>20</th>\n",
       "      <td>Rs.19100</td>\n",
       "    </tr>\n",
       "    <tr>\n",
       "      <th>21</th>\n",
       "      <td>Rs.18839</td>\n",
       "    </tr>\n",
       "    <tr>\n",
       "      <th>22</th>\n",
       "      <td>Rs.20300</td>\n",
       "    </tr>\n",
       "    <tr>\n",
       "      <th>23</th>\n",
       "      <td>Rs.20690</td>\n",
       "    </tr>\n",
       "  </tbody>\n",
       "</table>\n",
       "</div>"
      ],
      "text/plain": [
       "           0\n",
       "0   Rs.22990\n",
       "1   Rs.11899\n",
       "2   Rs.81000\n",
       "3   Rs.14449\n",
       "4   Rs.89000\n",
       "5   Rs.11499\n",
       "6   Rs.16999\n",
       "7   Rs.12399\n",
       "8   Rs.21200\n",
       "9   Rs.12999\n",
       "10  Rs.16999\n",
       "11  Rs.22700\n",
       "12  Rs.32999\n",
       "13  Rs.12999\n",
       "14  Rs.10990\n",
       "15  Rs.13899\n",
       "16  Rs.14190\n",
       "17  Rs.18790\n",
       "18  Rs.26799\n",
       "19  Rs.21145\n",
       "20  Rs.19100\n",
       "21  Rs.18839\n",
       "22  Rs.20300\n",
       "23  Rs.20690"
      ]
     },
     "execution_count": 378,
     "metadata": {},
     "output_type": "execute_result"
    }
   ],
   "source": [
    "df1"
   ]
  },
  {
   "cell_type": "code",
   "execution_count": 379,
   "metadata": {},
   "outputs": [],
   "source": [
    "df.rename(columns={0:'handset_name'},inplace=True)"
   ]
  },
  {
   "cell_type": "code",
   "execution_count": 380,
   "metadata": {},
   "outputs": [],
   "source": [
    "df1.rename(columns={0:'discounte_price'},inplace=True)"
   ]
  },
  {
   "cell_type": "code",
   "execution_count": 381,
   "metadata": {},
   "outputs": [],
   "source": [
    "df2.rename(columns={0:'discount'},inplace=True)"
   ]
  },
  {
   "cell_type": "code",
   "execution_count": 390,
   "metadata": {},
   "outputs": [],
   "source": [
    "dffinal=pd.concat([df,df1,df2],axis=1)"
   ]
  },
  {
   "cell_type": "code",
   "execution_count": 388,
   "metadata": {},
   "outputs": [],
   "source": [
    "df.drop(23,axis=0,inplace=True)"
   ]
  },
  {
   "cell_type": "code",
   "execution_count": 393,
   "metadata": {},
   "outputs": [],
   "source": [
    "dffinal.dropna(inplace=True)"
   ]
  },
  {
   "cell_type": "code",
   "execution_count": 397,
   "metadata": {},
   "outputs": [],
   "source": [
    "dffinal.rename(columns={'discounte_price':'discounted_price'},inplace=True)"
   ]
  },
  {
   "cell_type": "code",
   "execution_count": 400,
   "metadata": {},
   "outputs": [],
   "source": [
    "dffinal.discounted_price=dffinal.discounted_price.str.replace('Rs.','')"
   ]
  },
  {
   "cell_type": "code",
   "execution_count": 405,
   "metadata": {},
   "outputs": [],
   "source": [
    "dffinal.discounted_price=dffinal.discounted_price.astype('float')"
   ]
  },
  {
   "cell_type": "code",
   "execution_count": 409,
   "metadata": {},
   "outputs": [],
   "source": [
    "dffinal.discount=dffinal.discount.str.replace('% Off','')"
   ]
  },
  {
   "cell_type": "code",
   "execution_count": 413,
   "metadata": {},
   "outputs": [],
   "source": [
    "dffinal.discount=dffinal.discount.astype('float')"
   ]
  },
  {
   "cell_type": "code",
   "execution_count": 421,
   "metadata": {},
   "outputs": [],
   "source": [
    "dffinal['original_price']=dffinal.discounted_price+((dffinal['discounted_price']*dffinal['discount'])/100)"
   ]
  },
  {
   "cell_type": "code",
   "execution_count": 424,
   "metadata": {},
   "outputs": [],
   "source": [
    "dffinal=dffinal[['handset_name','original_price','discount','discounted_price']]"
   ]
  },
  {
   "cell_type": "code",
   "execution_count": 425,
   "metadata": {},
   "outputs": [
    {
     "data": {
      "text/html": [
       "<div>\n",
       "<style scoped>\n",
       "    .dataframe tbody tr th:only-of-type {\n",
       "        vertical-align: middle;\n",
       "    }\n",
       "\n",
       "    .dataframe tbody tr th {\n",
       "        vertical-align: top;\n",
       "    }\n",
       "\n",
       "    .dataframe thead th {\n",
       "        text-align: right;\n",
       "    }\n",
       "</style>\n",
       "<table border=\"1\" class=\"dataframe\">\n",
       "  <thead>\n",
       "    <tr style=\"text-align: right;\">\n",
       "      <th></th>\n",
       "      <th>handset_name</th>\n",
       "      <th>original_price</th>\n",
       "      <th>discount</th>\n",
       "      <th>discounted_price</th>\n",
       "    </tr>\n",
       "  </thead>\n",
       "  <tbody>\n",
       "    <tr>\n",
       "      <th>0</th>\n",
       "      <td>OPPO F9 Pro (Twilight Blue, 64 GB)  (6 GB RAM)</td>\n",
       "      <td>25748.80</td>\n",
       "      <td>12.0</td>\n",
       "      <td>22990.0</td>\n",
       "    </tr>\n",
       "    <tr>\n",
       "      <th>1</th>\n",
       "      <td>Honor 9 Lite (Sapphire Blue, 32 GB)  (3 GB RAM)</td>\n",
       "      <td>13683.85</td>\n",
       "      <td>15.0</td>\n",
       "      <td>11899.0</td>\n",
       "    </tr>\n",
       "    <tr>\n",
       "      <th>2</th>\n",
       "      <td>Apple iPhone X (3 GB/64 GB/Silver)</td>\n",
       "      <td>88290.00</td>\n",
       "      <td>9.0</td>\n",
       "      <td>81000.0</td>\n",
       "    </tr>\n",
       "    <tr>\n",
       "      <th>3</th>\n",
       "      <td>REDMI NOTE 5 PRO 4/64 GB GOLD</td>\n",
       "      <td>15893.90</td>\n",
       "      <td>10.0</td>\n",
       "      <td>14449.0</td>\n",
       "    </tr>\n",
       "    <tr>\n",
       "      <th>4</th>\n",
       "      <td>Apple iPhone X 64 GB (3 GB/64 GB/Space Grey)</td>\n",
       "      <td>99680.00</td>\n",
       "      <td>12.0</td>\n",
       "      <td>89000.0</td>\n",
       "    </tr>\n",
       "    <tr>\n",
       "      <th>5</th>\n",
       "      <td>Vivo Y91 32 Gb 3 Gb Ram Smartphone New</td>\n",
       "      <td>12188.94</td>\n",
       "      <td>6.0</td>\n",
       "      <td>11499.0</td>\n",
       "    </tr>\n",
       "    <tr>\n",
       "      <th>6</th>\n",
       "      <td>OPPO A7 64 gb Smart phone New</td>\n",
       "      <td>17848.95</td>\n",
       "      <td>5.0</td>\n",
       "      <td>16999.0</td>\n",
       "    </tr>\n",
       "    <tr>\n",
       "      <th>7</th>\n",
       "      <td>SAMSUNG GALAXY M10 32 Gb 3 Gb Ram Smartphone New</td>\n",
       "      <td>17482.59</td>\n",
       "      <td>41.0</td>\n",
       "      <td>12399.0</td>\n",
       "    </tr>\n",
       "    <tr>\n",
       "      <th>8</th>\n",
       "      <td>vivo V15 Pro 128 GB, 8 GB RAM Smartphone New</td>\n",
       "      <td>26288.00</td>\n",
       "      <td>24.0</td>\n",
       "      <td>21200.0</td>\n",
       "    </tr>\n",
       "    <tr>\n",
       "      <th>9</th>\n",
       "      <td>Samsung Galaxy M20 32 GB, 3 GB RAM Smartphone ...</td>\n",
       "      <td>14948.85</td>\n",
       "      <td>15.0</td>\n",
       "      <td>12999.0</td>\n",
       "    </tr>\n",
       "    <tr>\n",
       "      <th>10</th>\n",
       "      <td>vivo Y95vivo Y95 64 GB, 4 GB RAM Smartphone New</td>\n",
       "      <td>21078.76</td>\n",
       "      <td>24.0</td>\n",
       "      <td>16999.0</td>\n",
       "    </tr>\n",
       "    <tr>\n",
       "      <th>11</th>\n",
       "      <td>Oppo F11 Pro 64 GB, 4 GB RAM Smartphone New</td>\n",
       "      <td>24516.00</td>\n",
       "      <td>8.0</td>\n",
       "      <td>22700.0</td>\n",
       "    </tr>\n",
       "    <tr>\n",
       "      <th>12</th>\n",
       "      <td>Samsung Galaxy A9  128 GB, 8 GB RAM Smartphone...</td>\n",
       "      <td>40918.76</td>\n",
       "      <td>24.0</td>\n",
       "      <td>32999.0</td>\n",
       "    </tr>\n",
       "    <tr>\n",
       "      <th>13</th>\n",
       "      <td>Realme 3 Pro 6GB RAM 64GB ROM Lightning Purple</td>\n",
       "      <td>18068.61</td>\n",
       "      <td>39.0</td>\n",
       "      <td>12999.0</td>\n",
       "    </tr>\n",
       "    <tr>\n",
       "      <th>14</th>\n",
       "      <td>Samsung Galaxy A30 32 GB, 3 GB RAM Smartphone New</td>\n",
       "      <td>12418.70</td>\n",
       "      <td>13.0</td>\n",
       "      <td>10990.0</td>\n",
       "    </tr>\n",
       "    <tr>\n",
       "      <th>15</th>\n",
       "      <td>Redmi Note 6 Pro (Red, 64 GB)  (4 GB RAM)</td>\n",
       "      <td>17929.71</td>\n",
       "      <td>29.0</td>\n",
       "      <td>13899.0</td>\n",
       "    </tr>\n",
       "    <tr>\n",
       "      <th>16</th>\n",
       "      <td>vivo Y17 128 GB, 4 GB RAM Smartphone New</td>\n",
       "      <td>17737.50</td>\n",
       "      <td>25.0</td>\n",
       "      <td>14190.0</td>\n",
       "    </tr>\n",
       "    <tr>\n",
       "      <th>17</th>\n",
       "      <td>Samsung Galaxy M30 128 GB, 6 GB RAM Smartphone...</td>\n",
       "      <td>20293.20</td>\n",
       "      <td>8.0</td>\n",
       "      <td>18790.0</td>\n",
       "    </tr>\n",
       "    <tr>\n",
       "      <th>18</th>\n",
       "      <td>Vivo V17 Pro 128Gb 8Gb Ram Smartphone New Mobi...</td>\n",
       "      <td>30550.86</td>\n",
       "      <td>14.0</td>\n",
       "      <td>26799.0</td>\n",
       "    </tr>\n",
       "    <tr>\n",
       "      <th>19</th>\n",
       "      <td>Samsung Galaxy A50  64 GB, 4 GB RAM Smartphone...</td>\n",
       "      <td>23048.05</td>\n",
       "      <td>9.0</td>\n",
       "      <td>21145.0</td>\n",
       "    </tr>\n",
       "    <tr>\n",
       "      <th>20</th>\n",
       "      <td>OPPO F9 Pro (Sunrise Red, 64 GB)  (6 GB RAM)</td>\n",
       "      <td>21010.00</td>\n",
       "      <td>10.0</td>\n",
       "      <td>19100.0</td>\n",
       "    </tr>\n",
       "    <tr>\n",
       "      <th>21</th>\n",
       "      <td>Samsung Galaxy M30  64 GB, 4 GB RAM Smartphone...</td>\n",
       "      <td>19404.17</td>\n",
       "      <td>3.0</td>\n",
       "      <td>18839.0</td>\n",
       "    </tr>\n",
       "    <tr>\n",
       "      <th>22</th>\n",
       "      <td>Samsung Galaxy A7 (2018)  64 GB, 4 GB RAM Smar...</td>\n",
       "      <td>24360.00</td>\n",
       "      <td>20.0</td>\n",
       "      <td>20300.0</td>\n",
       "    </tr>\n",
       "  </tbody>\n",
       "</table>\n",
       "</div>"
      ],
      "text/plain": [
       "                                         handset_name  original_price  \\\n",
       "0      OPPO F9 Pro (Twilight Blue, 64 GB)  (6 GB RAM)        25748.80   \n",
       "1     Honor 9 Lite (Sapphire Blue, 32 GB)  (3 GB RAM)        13683.85   \n",
       "2                  Apple iPhone X (3 GB/64 GB/Silver)        88290.00   \n",
       "3                       REDMI NOTE 5 PRO 4/64 GB GOLD        15893.90   \n",
       "4        Apple iPhone X 64 GB (3 GB/64 GB/Space Grey)        99680.00   \n",
       "5              Vivo Y91 32 Gb 3 Gb Ram Smartphone New        12188.94   \n",
       "6                       OPPO A7 64 gb Smart phone New        17848.95   \n",
       "7    SAMSUNG GALAXY M10 32 Gb 3 Gb Ram Smartphone New        17482.59   \n",
       "8        vivo V15 Pro 128 GB, 8 GB RAM Smartphone New        26288.00   \n",
       "9   Samsung Galaxy M20 32 GB, 3 GB RAM Smartphone ...        14948.85   \n",
       "10    vivo Y95vivo Y95 64 GB, 4 GB RAM Smartphone New        21078.76   \n",
       "11        Oppo F11 Pro 64 GB, 4 GB RAM Smartphone New        24516.00   \n",
       "12  Samsung Galaxy A9  128 GB, 8 GB RAM Smartphone...        40918.76   \n",
       "13     Realme 3 Pro 6GB RAM 64GB ROM Lightning Purple        18068.61   \n",
       "14  Samsung Galaxy A30 32 GB, 3 GB RAM Smartphone New        12418.70   \n",
       "15          Redmi Note 6 Pro (Red, 64 GB)  (4 GB RAM)        17929.71   \n",
       "16           vivo Y17 128 GB, 4 GB RAM Smartphone New        17737.50   \n",
       "17  Samsung Galaxy M30 128 GB, 6 GB RAM Smartphone...        20293.20   \n",
       "18  Vivo V17 Pro 128Gb 8Gb Ram Smartphone New Mobi...        30550.86   \n",
       "19  Samsung Galaxy A50  64 GB, 4 GB RAM Smartphone...        23048.05   \n",
       "20       OPPO F9 Pro (Sunrise Red, 64 GB)  (6 GB RAM)        21010.00   \n",
       "21  Samsung Galaxy M30  64 GB, 4 GB RAM Smartphone...        19404.17   \n",
       "22  Samsung Galaxy A7 (2018)  64 GB, 4 GB RAM Smar...        24360.00   \n",
       "\n",
       "    discount  discounted_price  \n",
       "0       12.0           22990.0  \n",
       "1       15.0           11899.0  \n",
       "2        9.0           81000.0  \n",
       "3       10.0           14449.0  \n",
       "4       12.0           89000.0  \n",
       "5        6.0           11499.0  \n",
       "6        5.0           16999.0  \n",
       "7       41.0           12399.0  \n",
       "8       24.0           21200.0  \n",
       "9       15.0           12999.0  \n",
       "10      24.0           16999.0  \n",
       "11       8.0           22700.0  \n",
       "12      24.0           32999.0  \n",
       "13      39.0           12999.0  \n",
       "14      13.0           10990.0  \n",
       "15      29.0           13899.0  \n",
       "16      25.0           14190.0  \n",
       "17       8.0           18790.0  \n",
       "18      14.0           26799.0  \n",
       "19       9.0           21145.0  \n",
       "20      10.0           19100.0  \n",
       "21       3.0           18839.0  \n",
       "22      20.0           20300.0  "
      ]
     },
     "execution_count": 425,
     "metadata": {},
     "output_type": "execute_result"
    }
   ],
   "source": [
    "dffinal"
   ]
  },
  {
   "cell_type": "code",
   "execution_count": 428,
   "metadata": {},
   "outputs": [],
   "source": [
    "import matplotlib.pyplot as plt"
   ]
  },
  {
   "cell_type": "code",
   "execution_count": 429,
   "metadata": {},
   "outputs": [],
   "source": [
    "import seaborn as sns"
   ]
  },
  {
   "cell_type": "code",
   "execution_count": 430,
   "metadata": {},
   "outputs": [
    {
     "data": {
      "text/plain": [
       "<matplotlib.axes._subplots.AxesSubplot at 0x23e027263c8>"
      ]
     },
     "execution_count": 430,
     "metadata": {},
     "output_type": "execute_result"
    },
    {
     "data": {
      "image/png": "[encoded data removed]",
      "text/plain": [
       "<Figure size 432x288 with 1 Axes>"
      ]
     },
     "metadata": {},
     "output_type": "display_data"
    }
   ],
   "source": [
    "sns.boxplot(dffinal.discounted_price)"
   ]
  },
  {
   "cell_type": "code",
   "execution_count": 439,
   "metadata": {},
   "outputs": [],
   "source": [
    "q1=dffinal.discounted_price.quantile(0.25)\n",
    "q2=dffinal.discounted_price.quantile(0.5)\n",
    "q3=dffinal.discounted_price.quantile(0.75)\n",
    "iqr=q3-q1\n",
    "ll=q1-1.5*iqr\n",
    "ul=q3+1.5*iqr"
   ]
  },
  {
   "cell_type": "code",
   "execution_count": 440,
   "metadata": {},
   "outputs": [
    {
     "data": {
      "text/plain": [
       "34701.5"
      ]
     },
     "execution_count": 440,
     "metadata": {},
     "output_type": "execute_result"
    }
   ],
   "source": [
    "ul"
   ]
  },
  {
   "cell_type": "code",
   "execution_count": 445,
   "metadata": {},
   "outputs": [
    {
     "data": {
      "text/plain": [
       "<matplotlib.axes._subplots.AxesSubplot at 0x23e02da4630>"
      ]
     },
     "execution_count": 445,
     "metadata": {},
     "output_type": "execute_result"
    },
    {
     "data": {
      "image/png": "[encoded data removed]",
      "text/plain": [
       "<Figure size 432x288 with 1 Axes>"
      ]
     },
     "metadata": {},
     "output_type": "display_data"
    }
   ],
   "source": [
    "sns.scatterplot(dffinal.discounted_price,dffinal.discount)"
   ]
  },
  {
   "cell_type": "code",
   "execution_count": null,
   "metadata": {},
   "outputs": [],
   "source": []
  },
  {
   "cell_type": "code",
   "execution_count": null,
   "metadata": {},
   "outputs": [],
   "source": []
  }
 ],
 "metadata": {
  "kernelspec": {
   "display_name": "Python 3",
   "language": "python",
   "name": "python3"
  },
  "language_info": {
   "codemirror_mode": {
    "name": "ipython",
    "version": 3
   },
   "file_extension": ".py",
   "mimetype": "text/x-python",
   "name": "python",
   "nbconvert_exporter": "python",
   "pygments_lexer": "ipython3",
   "version": "3.6.4"
  }
 },
 "nbformat": 4,
 "nbformat_minor": 2
}
